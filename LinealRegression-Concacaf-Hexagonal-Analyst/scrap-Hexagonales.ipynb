{
 "cells": [
  {
   "cell_type": "code",
   "execution_count": 43,
   "metadata": {},
   "outputs": [],
   "source": [
    "import pandas as pd\n",
    "#Datos sacados de fbref.com"
   ]
  },
  {
   "cell_type": "code",
   "execution_count": 44,
   "metadata": {},
   "outputs": [
    {
     "name": "stdout",
     "output_type": "stream",
     "text": [
      "   Rk             Squad  MP  W  D  L  GF  GA  GD  Pts  Year\n",
      "0   1         mx Mexico  10  4  6  0  23   7  16   18  1998\n",
      "1   2  us United States  10  4  5  1  17   9   8   17  1998\n",
      "2   3        jm Jamaica  10  3  5  2   7  12  -5   14  1998\n",
      "3   4     cr Costa Rica  10  3  3  4  13  12   1   12  1998\n",
      "4   5    sv El Salvador  10  2  4  4  11  16  -5   10  1998\n",
      "5   6         ca Canada  10  1  3  6   5  20 -15    6  1998\n"
     ]
    }
   ],
   "source": [
    "hexagonal_98 = pd.read_html('https://fbref.com/en/comps/3/1998/1998-WCQ----CONCACAF-M-Stats', attrs={\"id\":\"results199835_overall\"})[0] \n",
    "#anadimos 0 pa' q lo conviarta a list\n",
    "hexagonal_98['Year'] = '1998'\n",
    "hexagonal_98 = hexagonal_98.drop(columns=['Notes'])\n",
    "#hexagonal_22.head()\n",
    "print(hexagonal_98)"
   ]
  },
  {
   "cell_type": "code",
   "execution_count": 45,
   "metadata": {},
   "outputs": [
    {
     "name": "stdout",
     "output_type": "stream",
     "text": [
      "   Rk             Squad  MP  W  D  L  GF  GA  GD  Pts  Year\n",
      "0   1     cr Costa Rica  10  7  2  1  17   7  10   23  2002\n",
      "1   2         mx Mexico  10  5  2  3  16   9   7   17  2002\n",
      "2   3  us United States  10  5  2  3  11   8   3   17  2002\n",
      "3   4       hn Honduras  10  4  2  4  17  17   0   14  2002\n",
      "4   5        jm Jamaica  10  2  2  6   7  14  -7    8  2002\n",
      "5   6  tt Trin & Tobago  10  1  2  7   5  18 -13    5  2002\n"
     ]
    }
   ],
   "source": [
    "hexagonal_02 = pd.read_html('https://fbref.com/en/comps/3/2002/2002-WCQ----CONCACAF-M-Stats', attrs={\"id\":\"results200234_overall\"})[0] \n",
    "hexagonal_02['Year'] = '2002'\n",
    "hexagonal_02 = hexagonal_02.drop(columns=['Notes'])\n",
    "#hexagonal_22.head()\n",
    "print(hexagonal_02)"
   ]
  },
  {
   "cell_type": "code",
   "execution_count": 46,
   "metadata": {},
   "outputs": [
    {
     "name": "stdout",
     "output_type": "stream",
     "text": [
      "   Rk             Squad  MP  W  D  L  GF  GA  GD  Pts  Year\n",
      "0   1  us United States  10  7  1  2  16   6  10   22  2006\n",
      "1   2         mx Mexico  10  7  1  2  22   9  13   22  2006\n",
      "2   3     cr Costa Rica  10  5  1  4  15  14   1   16  2006\n",
      "3   4  tt Trin & Tobago  10  4  1  5  10  15  -5   13  2006\n",
      "4   5      gt Guatemala  10  3  2  5  16  18  -2   11  2006\n",
      "5   6         pa Panama  10  0  2  8   4  21 -17    2  2006\n"
     ]
    }
   ],
   "source": [
    "hexagonal_06 = pd.read_html('https://fbref.com/en/comps/3/2006/2006-WCQ----CONCACAF-M-Stats', attrs={\"id\":\"results200634_overall\"})[0] \n",
    "#anadimos 0 pa' q lo conviarta a array\n",
    "hexagonal_06['Year'] = '2006'\n",
    "hexagonal_06 = hexagonal_06.drop(columns=['Notes'])\n",
    "#hexagonal_22.head()\n",
    "print(hexagonal_06)"
   ]
  },
  {
   "cell_type": "code",
   "execution_count": 47,
   "metadata": {},
   "outputs": [
    {
     "name": "stdout",
     "output_type": "stream",
     "text": [
      "   Rk             Squad  MP  W  D  L  GF  GA  GD  Pts  Year\n",
      "0   1  us United States  10  6  2  2  19  13   6   20  2010\n",
      "1   2         mx Mexico  10  6  1  3  18  12   6   19  2010\n",
      "2   3       hn Honduras  10  5  1  4  17  11   6   16  2010\n",
      "3   4     cr Costa Rica  10  5  1  4  15  15   0   16  2010\n",
      "4   5    sv El Salvador  10  2  2  6   9  15  -6    8  2010\n",
      "5   6  tt Trin & Tobago  10  1  3  6  10  22 -12    6  2010\n"
     ]
    }
   ],
   "source": [
    "hexagonal_10 = pd.read_html('https://fbref.com/en/comps/3/2010/2010-WCQ----CONCACAF-M-Stats', attrs={\"id\":\"results201034_overall\"})[0] \n",
    "#anadimos 0 pa' q lo conviarta a array\n",
    "hexagonal_10['Year'] = '2010'\n",
    "hexagonal_10 = hexagonal_10.drop(columns=['Notes'])\n",
    "#hexagonal_22.head()\n",
    "print(hexagonal_10)"
   ]
  },
  {
   "cell_type": "code",
   "execution_count": 48,
   "metadata": {},
   "outputs": [
    {
     "name": "stdout",
     "output_type": "stream",
     "text": [
      "   Rk             Squad  MP  W  D  L  GF  GA  GD  Pts  Year\n",
      "0   1  us United States  10  7  1  2  15   8   7   22  2014\n",
      "1   2     cr Costa Rica  10  5  3  2  13   7   6   18  2014\n",
      "2   3       hn Honduras  10  4  3  3  13  12   1   15  2014\n",
      "3   4         mx Mexico  10  2  5  3   7   9  -2   11  2014\n",
      "4   5         pa Panama  10  1  5  4  10  14  -4    8  2014\n",
      "5   6        jm Jamaica  10  0  5  5   5  13  -8    5  2014\n"
     ]
    }
   ],
   "source": [
    "hexagonal_14 = pd.read_html('https://fbref.com/en/comps/3/2014/2014-WCQ----CONCACAF-M-Stats', attrs={\"id\":\"results201434_overall\"})[0] \n",
    "#anadimos 0 pa' q lo conviarta a array\n",
    "hexagonal_14['Year'] = '2014'\n",
    "hexagonal_14 = hexagonal_14.drop(columns=['Notes'])\n",
    "#hexagonal_22.head()\n",
    "print(hexagonal_14)"
   ]
  },
  {
   "cell_type": "code",
   "execution_count": 49,
   "metadata": {},
   "outputs": [
    {
     "name": "stdout",
     "output_type": "stream",
     "text": [
      "   Rk             Squad  MP  W  D  L  GF  GA  GD  Pts  Year\n",
      "0   1         mx Mexico  10  6  3  1  16   7   9   21  2018\n",
      "1   2     cr Costa Rica  10  4  4  2  14   8   6   16  2018\n",
      "2   3         pa Panama  10  3  4  3   9  10  -1   13  2018\n",
      "3   4       hn Honduras  10  3  4  3  13  19  -6   13  2018\n",
      "4   5  us United States  10  3  3  4  17  13   4   12  2018\n",
      "5   6  tt Trin & Tobago  10  2  0  8   7  19 -12    6  2018\n"
     ]
    }
   ],
   "source": [
    "hexagonal_18 = pd.read_html('https://fbref.com/en/comps/3/2018/2018-WCQ----CONCACAF-M-Stats', attrs={\"id\":\"results201835_overall\"})[0] \n",
    "#anadimos 0 pa' q lo conviarta a array\n",
    "hexagonal_18['Year'] = '2018'\n",
    "hexagonal_18 = hexagonal_18.drop(columns=['Notes'])\n",
    "#hexagonal_22.head()\n",
    "print(hexagonal_18)"
   ]
  },
  {
   "cell_type": "code",
   "execution_count": 50,
   "metadata": {},
   "outputs": [
    {
     "name": "stdout",
     "output_type": "stream",
     "text": [
      "   Rk             Squad  MP  W  D   L  GF  GA  GD  Pts  Year\n",
      "0   1         ca Canada  14  8  4   2  23   7  16   28  2022\n",
      "1   2         mx Mexico  14  8  4   2  17   8   9   28  2022\n",
      "2   3  us United States  14  7  4   3  21  10  11   25  2022\n",
      "3   4     cr Costa Rica  14  7  4   3  13   8   5   25  2022\n",
      "4   5         pa Panama  14  6  3   5  17  19  -2   21  2022\n",
      "5   6        jm Jamaica  14  2  5   7  12  22 -10   11  2022\n",
      "6   7    sv El Salvador  14  2  4   8   8  18 -10   10  2022\n",
      "7   8       hn Honduras  14  0  4  10   7  26 -19    4  2022\n"
     ]
    }
   ],
   "source": [
    "hexagonal_22 = pd.read_html('https://fbref.com/en/comps/3/2022/2022-WCQ----CONCACAF-M-Stats', attrs={\"id\":\"results202233_overall\"})[0] \n",
    "#anadimos 0 pa' q lo conviarta a array\n",
    "hexagonal_22['Year'] = '2022'\n",
    "hexagonal_22 = hexagonal_22.drop(columns=['Notes'])\n",
    "#hexagonal_22.head()\n",
    "print(hexagonal_22)\n",
    "\n"
   ]
  },
  {
   "cell_type": "code",
   "execution_count": 51,
   "metadata": {},
   "outputs": [],
   "source": [
    "csvHexagonal = pd.concat([hexagonal_98, hexagonal_02, hexagonal_06, hexagonal_10, hexagonal_14, hexagonal_18, hexagonal_22])"
   ]
  },
  {
   "cell_type": "code",
   "execution_count": 55,
   "metadata": {},
   "outputs": [],
   "source": [
    "csvHexagonal.to_csv('hexagonal-98-22.csv', index=False)"
   ]
  }
 ],
 "metadata": {
  "kernelspec": {
   "display_name": "Python 3",
   "language": "python",
   "name": "python3"
  },
  "language_info": {
   "codemirror_mode": {
    "name": "ipython",
    "version": 3
   },
   "file_extension": ".py",
   "mimetype": "text/x-python",
   "name": "python",
   "nbconvert_exporter": "python",
   "pygments_lexer": "ipython3",
   "version": "3.12.2"
  }
 },
 "nbformat": 4,
 "nbformat_minor": 2
}
